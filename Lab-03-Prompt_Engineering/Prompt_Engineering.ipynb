{
  "cells": [
    {
      "cell_type": "markdown",
      "id": "c6860dc8",
      "metadata": {
        "id": "c6860dc8"
      },
      "source": [
        "\n",
        "# Prompt Engineering\n",
        "\n",
        "\n",
        "\n",
        "## Steps Covered in This Notebook:\n",
        "\n",
        "1. Creating an empty text file.\n",
        "2. Configuring the Azure OpenAI client.\n",
        "3. Reading input from the user and system message.\n",
        "4. Making an asynchronous call to the OpenAI model.\n",
        "5. Handling the response from the model.\n",
        "\n",
        "### Import Necessary Libraries\n",
        "\n",
        "First, we need to import the necessary libraries, including asyncio for asynchronous programming and the Azure OpenAI package.\n",
        "    "
      ]
    },
    {
      "cell_type": "code",
      "execution_count": null,
      "id": "76ze6mPDOzY7",
      "metadata": {
        "id": "76ze6mPDOzY7"
      },
      "outputs": [],
      "source": [
        "!pip install openai==1.13.3"
      ]
    },
    {
      "cell_type": "code",
      "execution_count": null,
      "id": "121e4681",
      "metadata": {
        "id": "121e4681"
      },
      "outputs": [],
      "source": [
        "\n",
        "import asyncio\n",
        "from openai import AsyncAzureOpenAI\n"
      ]
    },
    {
      "cell_type": "markdown",
      "id": "1d10f211",
      "metadata": {
        "id": "1d10f211"
      },
      "source": [
        "\n",
        "### Creating an Empty Text File\n",
        "\n",
        "Next, we create an empty text file named `system.txt`.\n",
        "    "
      ]
    },
    {
      "cell_type": "code",
      "execution_count": null,
      "id": "1a1d72bf",
      "metadata": {
        "id": "1a1d72bf"
      },
      "outputs": [],
      "source": [
        "\n",
        "# Creating an empty text file named system.txt\n",
        "file_name = 'system.txt'\n",
        "\n",
        "with open(file_name, 'w') as file:\n",
        "    pass\n",
        "\n",
        "print(f\"Created file: {file_name}\")\n"
      ]
    },
    {
      "cell_type": "markdown",
      "id": "e06e92ff",
      "metadata": {
        "id": "e06e92ff"
      },
      "source": [
        "\n",
        "### Setting Configuration and Client Initialization\n",
        "\n",
        "We will now set the configuration for the Azure OpenAI service, including the endpoint, API key, and deployment name.\n",
        "    "
      ]
    },
    {
      "cell_type": "code",
      "execution_count": null,
      "id": "1068e837",
      "metadata": {
        "id": "1068e837"
      },
      "outputs": [],
      "source": [
        "\n",
        "# Configuration settings\n",
        "azure_oai_endpoint = \"<your OpenAI endpoint>\"\n",
        "azure_oai_key = \"<your OpenAI Key>\"\n",
        "azure_oai_deployment = \"<your OpenAI Deployment Name>\"\n",
        "\n",
        "# Configure the Azure OpenAI client\n",
        "client = AsyncAzureOpenAI(\n",
        "    azure_endpoint=azure_oai_endpoint,\n",
        "    api_key=azure_oai_key,\n",
        "    api_version=\"2024-02-15-preview\"\n",
        ")\n",
        "\n",
        "print(\"Azure OpenAI client configured.\")\n"
      ]
    },
    {
      "cell_type": "markdown",
      "id": "758d52f0",
      "metadata": {
        "id": "758d52f0"
      },
      "source": [
        "\n",
        "### Defining the Main Function\n",
        "\n",
        "The `main` function will handle user input and interact with the Azure OpenAI model.\n",
        "    "
      ]
    },
    {
      "cell_type": "code",
      "execution_count": null,
      "id": "b239867c",
      "metadata": {
        "id": "b239867c"
      },
      "outputs": [],
      "source": [
        "\n",
        "# Set to True to print the full response from OpenAI for each call\n",
        "printFullResponse = False\n",
        "\n",
        "async def main():\n",
        "    try:\n",
        "        while True:\n",
        "            # Pause the app to allow the user to enter the system prompt\n",
        "            print(\"------------------Pausing the app to allow you to change the system prompt in system.txt file, Press anything then enter to continue...\")\n",
        "            input()\n",
        "\n",
        "            # Read in system message and prompt for user message\n",
        "            system_text = open(file=\"/content/system.txt\", encoding=\"utf8\").read().strip()\n",
        "            user_text = input(\"Enter user message: \")\n",
        "            if user_text.lower() == 'quit' or system_text.lower() == 'quit':\n",
        "                print('Exiting program...')\n",
        "                break\n",
        "\n",
        "            await call_openai_model(system_message=system_text,\n",
        "                                    user_message=user_text,\n",
        "                                    model=azure_oai_deployment,\n",
        "                                    client=client)\n",
        "\n",
        "    except Exception as ex:\n",
        "        print(ex)\n"
      ]
    },
    {
      "cell_type": "markdown",
      "id": "gSTDMXvwweyt",
      "metadata": {
        "id": "gSTDMXvwweyt"
      },
      "source": [
        "**In the next step, we will create a txt file named grouding.txt that serves as grounding text for our model**"
      ]
    },
    {
      "cell_type": "code",
      "execution_count": null,
      "id": "ByGeXebBtXwd",
      "metadata": {
        "id": "ByGeXebBtXwd"
      },
      "outputs": [],
      "source": [
        "grounding_text = \"\"\"\n",
        "Contoso is a wildlife rescue organization that has dedicated itself to the protection and preservation of animals and their habitats. The organization has been working tirelessly to protect the wildlife and their habitats from the threat of extinction. Contoso's mission is to provide a safe and healthy environment for all animals in their care.\n",
        "\n",
        "One of the most popular animals that Contoso rescues and cares for is the red panda. Known for their fluffy tails and adorable faces, red pandas have captured the hearts of children all over the world. These playful creatures are native to the Himalayas and are listed as endangered due to habitat loss and poaching.\n",
        "\n",
        "Contoso's red panda rescue program is one of their most successful initiatives. The organization works with local communities to protect the red panda's natural habitat and provides medical care for those that are rescued. Contoso's team of experts works tirelessly to ensure that all rescued red pandas receive the best possible care and are eventually released back into the wild.\n",
        "\n",
        "Children, in particular, have a soft spot for red pandas. These playful creatures are often featured in children's books, cartoons, and movies. With their fluffy tails and bright eyes, it's easy to see why children are drawn to them. Contoso understands this and has made it their mission to educate children about the importance of wildlife conservation and the role they can play in protecting these endangered species.\n",
        "\n",
        "Contoso's red panda rescue program is not only helping to save these adorable creatures from extinction but is also providing a unique opportunity for children to learn about wildlife conservation. The organization offers educational programs and tours that allow children to get up close and personal with the red pandas. These programs are designed to teach children about the importance of protecting wildlife and their habitats.\n",
        "\n",
        "In addition to their red panda rescue program, Contoso also rescues and cares for a variety of other animals, including elephants, tigers, and rhinoceros. The organization is committed to protecting all animals in their care and works tirelessly to provide them with a safe and healthy environment.\n",
        "\"\"\"\n",
        "\n",
        "with open('grounding.txt', 'w') as file:\n",
        "    file.write(grounding_text)\n",
        "\n",
        "print(\"Created file: grounding.txt\")\n"
      ]
    },
    {
      "cell_type": "markdown",
      "id": "bdfd7d99",
      "metadata": {
        "id": "bdfd7d99"
      },
      "source": [
        "\n",
        "### Defining the Call to the OpenAI Model\n",
        "\n",
        "The `call_openai_model` function formats the request and sends it to the OpenAI model.\n",
        "    "
      ]
    },
    {
      "cell_type": "code",
      "execution_count": null,
      "id": "eb8d5b92",
      "metadata": {
        "id": "eb8d5b92"
      },
      "outputs": [],
      "source": [
        "\n",
        "async def call_openai_model(system_message, user_message, model, client):\n",
        "    # Format and send the request to the model\n",
        "    print(\"Adding grounding context from grounding.txt\")\n",
        "    grounding_text = open(file=\"/content/grounding.txt\", encoding=\"utf8\").read().strip()\n",
        "    user_message = grounding_text + user_message\n",
        "    messages = [\n",
        "        {\"role\": \"system\", \"content\": system_message},\n",
        "        {\"role\": \"user\", \"content\": user_message},\n",
        "        ]\n",
        "    print(\"Sending request to Azure OpenAI model...\")\n",
        "    # Call the Azure OpenAI model\n",
        "    response = await client.chat.completions.create(\n",
        "        model=model,\n",
        "        messages=messages,\n",
        "        temperature=0.7,\n",
        "        max_tokens=800\n",
        "    )\n",
        "\n",
        "    if printFullResponse:\n",
        "        print(response)\n",
        "\n",
        "    print(\"Response:\" + response.choices[0].message.content + \"\\n\")\n"
      ]
    },
    {
      "cell_type": "markdown",
      "id": "7d0f1faf",
      "metadata": {
        "id": "7d0f1faf"
      },
      "source": [
        "\n",
        "### Running the Main Function\n",
        "\n",
        "Finally, we run the `main` function within the current event loop.\n",
        "    "
      ]
    },
    {
      "cell_type": "code",
      "execution_count": null,
      "id": "GQcnSh0kvGwb",
      "metadata": {
        "id": "GQcnSh0kvGwb"
      },
      "outputs": [],
      "source": [
        "\n",
        "# Run the main function in the event loop\n",
        "await main()\n"
      ]
    }
  ],
  "metadata": {
    "colab": {
      "provenance": []
    },
    "kernelspec": {
      "display_name": "Python 3",
      "name": "python3"
    },
    "language_info": {
      "name": "python",
      "version": "3.11.9"
    }
  },
  "nbformat": 4,
  "nbformat_minor": 5
}
