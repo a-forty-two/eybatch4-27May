{
  "nbformat": 4,
  "nbformat_minor": 0,
  "metadata": {
    "colab": {
      "provenance": [],
      "authorship_tag": "ABX9TyPJfqrpz6dXYLVRS9nJp++x",
      "include_colab_link": true
    },
    "kernelspec": {
      "name": "python3",
      "display_name": "Python 3"
    },
    "language_info": {
      "name": "python"
    }
  },
  "cells": [
    {
      "cell_type": "markdown",
      "metadata": {
        "id": "view-in-github",
        "colab_type": "text"
      },
      "source": [
        "<a href=\"https://colab.research.google.com/github/a-forty-two/eybatch4-27May/blob/main/EY01_IntroToPython_DataStructures.ipynb\" target=\"_parent\"><img src=\"https://colab.research.google.com/assets/colab-badge.svg\" alt=\"Open In Colab\"/></a>"
      ]
    },
    {
      "cell_type": "markdown",
      "source": [
        "General python tutorials- https://www.w3schools.com/python/"
      ],
      "metadata": {
        "id": "-I24zePQ75re"
      }
    },
    {
      "cell_type": "code",
      "execution_count": 1,
      "metadata": {
        "id": "qyr3X9Vl7Dfw"
      },
      "outputs": [],
      "source": [
        "# Data Structures\n",
        "\n",
        "# 4 data structures - List, Tuple, Set, Dictionary\n",
        "\n"
      ]
    },
    {
      "cell_type": "code",
      "source": [
        "# List is -> ORDERED, INDEXED COLLECTION\n",
        "# represented by [ ]\n",
        "\n",
        "#everything is POINTER MANIPULATION!!!\n",
        "myList = [1, 0, False, True, 3.14, \"hello world\"]"
      ],
      "metadata": {
        "id": "SLI_cfxM8F1x"
      },
      "execution_count": 2,
      "outputs": []
    },
    {
      "cell_type": "code",
      "source": [
        "# ORDERED means that positions are preserved\n",
        "myList # order of elements will NOT change"
      ],
      "metadata": {
        "colab": {
          "base_uri": "https://localhost:8080/"
        },
        "id": "hFseww6X8S6Z",
        "outputId": "9da79ebb-c1eb-4d79-eb9a-69da272b075d"
      },
      "execution_count": 3,
      "outputs": [
        {
          "output_type": "execute_result",
          "data": {
            "text/plain": [
              "[1, 0, False, True, 3.14, 'hello world']"
            ]
          },
          "metadata": {},
          "execution_count": 3
        }
      ]
    },
    {
      "cell_type": "code",
      "source": [
        "# INDEXED -> refer to it by positions\n",
        "myList[0], myList[-2] # negative-> right to left, positive-> left to right and starts from 0\n"
      ],
      "metadata": {
        "colab": {
          "base_uri": "https://localhost:8080/"
        },
        "id": "nxNzWi0p8Ybq",
        "outputId": "ebe0fc04-c406-42e5-ae14-e384ef269a09"
      },
      "execution_count": 4,
      "outputs": [
        {
          "output_type": "execute_result",
          "data": {
            "text/plain": [
              "(1, 3.14)"
            ]
          },
          "metadata": {},
          "execution_count": 4
        }
      ]
    },
    {
      "cell_type": "code",
      "source": [
        "# INDEXES also work with ranges\n",
        "myList[1:3] # from start till end EXCLUDING the end value"
      ],
      "metadata": {
        "colab": {
          "base_uri": "https://localhost:8080/"
        },
        "id": "Yqd9AVgl8lg9",
        "outputId": "d4c4e9f7-1e63-41a1-d856-183c0b1e5a15"
      },
      "execution_count": 5,
      "outputs": [
        {
          "output_type": "execute_result",
          "data": {
            "text/plain": [
              "[0, False]"
            ]
          },
          "metadata": {},
          "execution_count": 5
        }
      ]
    },
    {
      "cell_type": "code",
      "source": [
        "myList[1:4] # 1,2,3 will be selected and not 4"
      ],
      "metadata": {
        "colab": {
          "base_uri": "https://localhost:8080/"
        },
        "id": "VHFZRInt8qLI",
        "outputId": "e9573076-57e6-46c4-e57f-490f96cbe8a0"
      },
      "execution_count": 6,
      "outputs": [
        {
          "output_type": "execute_result",
          "data": {
            "text/plain": [
              "[0, False, True]"
            ]
          },
          "metadata": {},
          "execution_count": 6
        }
      ]
    },
    {
      "cell_type": "code",
      "source": [
        "# TUPLE\n",
        "# ORDERED and INDEXED, NOT EDITABLE (READ-ONLY)\n",
        "# represented by ( )\n",
        "\n",
        "myTup = (1,2,3)\n",
        "#indexed\n",
        "print(myTup[-1])\n",
        "#ordered\n",
        "print(myTup)"
      ],
      "metadata": {
        "colab": {
          "base_uri": "https://localhost:8080/"
        },
        "id": "vyw48Cs580Iw",
        "outputId": "e0953a81-dd2d-4b1f-a50c-8c917e362d93"
      },
      "execution_count": 7,
      "outputs": [
        {
          "output_type": "stream",
          "name": "stdout",
          "text": [
            "3\n",
            "(1, 2, 3)\n"
          ]
        }
      ]
    },
    {
      "cell_type": "code",
      "source": [
        "# READONLY -> any change should throw an error\n",
        "myTup[0] = 'hello world'"
      ],
      "metadata": {
        "colab": {
          "base_uri": "https://localhost:8080/",
          "height": 162
        },
        "id": "8_sDhRQH9ceb",
        "outputId": "c15f2f6c-ef6d-4cce-cd07-5606ee030b82"
      },
      "execution_count": 8,
      "outputs": [
        {
          "output_type": "error",
          "ename": "TypeError",
          "evalue": "'tuple' object does not support item assignment",
          "traceback": [
            "\u001b[0;31m---------------------------------------------------------------------------\u001b[0m",
            "\u001b[0;31mTypeError\u001b[0m                                 Traceback (most recent call last)",
            "\u001b[0;32m<ipython-input-8-d66ecd9f76fa>\u001b[0m in \u001b[0;36m<cell line: 2>\u001b[0;34m()\u001b[0m\n\u001b[1;32m      1\u001b[0m \u001b[0;31m# READONLY -> any change should throw an error\u001b[0m\u001b[0;34m\u001b[0m\u001b[0;34m\u001b[0m\u001b[0m\n\u001b[0;32m----> 2\u001b[0;31m \u001b[0mmyTup\u001b[0m\u001b[0;34m[\u001b[0m\u001b[0;36m0\u001b[0m\u001b[0;34m]\u001b[0m \u001b[0;34m=\u001b[0m \u001b[0;34m'hello world'\u001b[0m\u001b[0;34m\u001b[0m\u001b[0;34m\u001b[0m\u001b[0m\n\u001b[0m",
            "\u001b[0;31mTypeError\u001b[0m: 'tuple' object does not support item assignment"
          ]
        }
      ]
    },
    {
      "cell_type": "code",
      "source": [
        "# SET\n",
        "# represented by { }\n",
        "\n",
        "# {apple, banana}, {apple, apple, banana}, {banana, apple}, {banana, apple, banana} -> same sets\n",
        "# SET -> POSITION doesn't matter, no duplication\n",
        "# SET is an UNORDERED, UNINDEXED collection\n",
        "\n",
        "set1 = {1, 2, 3}\n",
        "set2 = {3, 2, 1}\n",
        "set3 = {1,1,1,1,1,2,3,3,4,5,3}\n",
        "print(set1)\n",
        "print(set2)\n",
        "print(set3)"
      ],
      "metadata": {
        "colab": {
          "base_uri": "https://localhost:8080/"
        },
        "id": "bu_j7KFg9iwb",
        "outputId": "0ecfa9cf-c9bb-4d96-a769-dbe01df22300"
      },
      "execution_count": 9,
      "outputs": [
        {
          "output_type": "stream",
          "name": "stdout",
          "text": [
            "{1, 2, 3}\n",
            "{1, 2, 3}\n",
            "{1, 2, 3, 4, 5}\n"
          ]
        }
      ]
    },
    {
      "cell_type": "code",
      "source": [
        "myset = { 1, True, False, 0, 3.13, 'hello world', 42, 42, 0, 0, 1, 1}\n",
        "print(myset)"
      ],
      "metadata": {
        "colab": {
          "base_uri": "https://localhost:8080/"
        },
        "id": "hNDxxjYS-fr8",
        "outputId": "71cf8f0f-136e-443f-a211-fb54ff37867f"
      },
      "execution_count": 10,
      "outputs": [
        {
          "output_type": "stream",
          "name": "stdout",
          "text": [
            "{False, 1, 3.13, 'hello world', 42}\n"
          ]
        }
      ]
    },
    {
      "cell_type": "code",
      "source": [
        "# INDEXING SHOULD THROW AN EROR\n",
        "myset[3]"
      ],
      "metadata": {
        "colab": {
          "base_uri": "https://localhost:8080/",
          "height": 162
        },
        "id": "hhhXeEfN-wfr",
        "outputId": "db43b336-cce5-4432-e6fe-49bc2c4d93e9"
      },
      "execution_count": 11,
      "outputs": [
        {
          "output_type": "error",
          "ename": "TypeError",
          "evalue": "'set' object is not subscriptable",
          "traceback": [
            "\u001b[0;31m---------------------------------------------------------------------------\u001b[0m",
            "\u001b[0;31mTypeError\u001b[0m                                 Traceback (most recent call last)",
            "\u001b[0;32m<ipython-input-11-9776d100c766>\u001b[0m in \u001b[0;36m<cell line: 2>\u001b[0;34m()\u001b[0m\n\u001b[1;32m      1\u001b[0m \u001b[0;31m# INDEXING SHOULD THROW AN EROR\u001b[0m\u001b[0;34m\u001b[0m\u001b[0;34m\u001b[0m\u001b[0m\n\u001b[0;32m----> 2\u001b[0;31m \u001b[0mmyset\u001b[0m\u001b[0;34m[\u001b[0m\u001b[0;36m3\u001b[0m\u001b[0;34m]\u001b[0m\u001b[0;34m\u001b[0m\u001b[0;34m\u001b[0m\u001b[0m\n\u001b[0m",
            "\u001b[0;31mTypeError\u001b[0m: 'set' object is not subscriptable"
          ]
        }
      ]
    },
    {
      "cell_type": "code",
      "source": [
        "# DICTIONARY\n",
        "# Set of KEY-VALUE Pairs!\n",
        "# UNORDERED, but INDEXABLE -> indexes are defined by keys!\n",
        "\n",
        "dict1 = { \"hello\" : 42,\n",
        "         False: 'bye bye world',\n",
        "          42: 'i am hungry',\n",
        "          0.14 : True}\n",
        "\n",
        "# KEYS can be anything, values can be anything!\n",
        "print(dict1)\n",
        "print(dict1[0.14])"
      ],
      "metadata": {
        "colab": {
          "base_uri": "https://localhost:8080/"
        },
        "id": "pqr_MEiN_Yy-",
        "outputId": "b226e0b0-dcb3-4085-86df-e82bae6d096d"
      },
      "execution_count": 13,
      "outputs": [
        {
          "output_type": "stream",
          "name": "stdout",
          "text": [
            "{'hello': 42, False: 'bye bye world', 42: 'i am hungry', 0.14: True}\n",
            "True\n"
          ]
        }
      ]
    },
    {
      "cell_type": "code",
      "source": [
        "# add a new value\n",
        "dict1['blah blah'] = myList\n",
        "dict1"
      ],
      "metadata": {
        "colab": {
          "base_uri": "https://localhost:8080/"
        },
        "id": "DEtYkcJGAPIF",
        "outputId": "988ee364-e909-4da3-93e7-504129816afb"
      },
      "execution_count": 14,
      "outputs": [
        {
          "output_type": "execute_result",
          "data": {
            "text/plain": [
              "{'hello': 42,\n",
              " False: 'bye bye world',\n",
              " 42: 'i am hungry',\n",
              " 0.14: True,\n",
              " 'blah blah': [1, 0, False, True, 3.14, 'hello world']}"
            ]
          },
          "metadata": {},
          "execution_count": 14
        }
      ]
    },
    {
      "cell_type": "code",
      "source": [],
      "metadata": {
        "id": "D9PsyuwxAmzn"
      },
      "execution_count": null,
      "outputs": []
    }
  ]
}