{
  "cells": [
    {
      "cell_type": "code",
      "execution_count": null,
      "metadata": {
        "id": "b-HLtNuU41IU"
      },
      "outputs": [],
      "source": [
        "!pip install openai==1.13.3"
      ]
    },
    {
      "cell_type": "code",
      "execution_count": null,
      "metadata": {
        "id": "lQ4EE88642D1"
      },
      "outputs": [],
      "source": [
        "# Add Azure OpenAI package\n",
        "from openai import AzureOpenAI\n",
        "import requests"
      ]
    },
    {
      "cell_type": "code",
      "execution_count": null,
      "metadata": {
        "id": "2HEcAONL5Ava"
      },
      "outputs": [],
      "source": [
        "#Set the API Keys, Endpoint and Model Deployment\n",
        "azure_oai_endpoint =\"<your OpenAI endpoint>\"\n",
        "azure_oai_key =\"<Your OpenAI Key>\"\n",
        "azure_oai_deployment =\"<Your OpenAI Deployment Name>\"\n"
      ]
    },
    {
      "cell_type": "code",
      "execution_count": null,
      "metadata": {
        "id": "59ibC7bv5FDV"
      },
      "outputs": [],
      "source": [
        "# Initialize the Azure OpenAI client\n",
        "azure_endpoint = azure_oai_endpoint\n",
        "api_key=azure_oai_key\n",
        "api_version=\"2024-02-15-preview\"\n",
        "\n",
        "\n"
      ]
    },
    {
      "cell_type": "code",
      "execution_count": null,
      "metadata": {
        "id": "0FSiaBhB6fzd"
      },
      "outputs": [],
      "source": [
        "# Get prompt for image to be generated\n",
        "prompt = input(\"\\nEnter a prompt to request an image: \")"
      ]
    },
    {
      "cell_type": "code",
      "execution_count": null,
      "metadata": {
        "id": "5aP3Qwwn55Bo"
      },
      "outputs": [],
      "source": [
        "# Call the DALL-E model\n",
        "url = \"{}openai/deployments/dalle3/images/generations?api-version={}\".format(azure_endpoint, api_version)\n",
        "headers= { \"api-key\": api_key, \"Content-Type\": \"application/json\" }\n",
        "body = {\n",
        "            \"prompt\": prompt,\n",
        "            \"n\": 1,\n",
        "            \"size\": \"1024x1024\"\n",
        "        }"
      ]
    },
    {
      "cell_type": "code",
      "execution_count": null,
      "metadata": {
        "id": "X1xJZi1w6zK1"
      },
      "outputs": [],
      "source": [
        " response = requests.post(url, headers=headers, json=body)\n",
        " print(response.text)"
      ]
    },
    {
      "cell_type": "code",
      "execution_count": null,
      "metadata": {
        "id": "PQp_r_5N8Lc6"
      },
      "outputs": [],
      "source": [
        " # Get the revised prompt and image URL from the response\n",
        " revised_prompt = response.json()['data'][0]['revised_prompt']\n",
        " image_url = response.json()['data'][0]['url']\n",
        "\n",
        " # Display the URL for the generated image\n",
        " print(revised_prompt)\n",
        " print(image_url)"
      ]
    },
    {
      "cell_type": "code",
      "execution_count": null,
      "metadata": {
        "id": "b2xywcMK8nsR"
      },
      "outputs": [],
      "source": [
        "save_path = 'image_name.jpg'\n",
        "\n",
        "# Download the image and save it to the specified path\n",
        "response = requests.get(image_url)\n",
        "if response.status_code == 200:\n",
        "    with open(save_path, 'wb') as f:\n",
        "        f.write(response.content)\n",
        "    print(f\"Image saved to {save_path}\")\n",
        "else:\n",
        "    print(\"Failed to download the image\")"
      ]
    },
    {
      "cell_type": "code",
      "execution_count": null,
      "metadata": {
        "id": "ERNOLRDm_omL"
      },
      "outputs": [],
      "source": []
    }
  ],
  "metadata": {
    "colab": {
      "provenance": []
    },
    "kernelspec": {
      "display_name": "Python 3",
      "name": "python3"
    },
    "language_info": {
      "name": "python"
    }
  },
  "nbformat": 4,
  "nbformat_minor": 0
}
